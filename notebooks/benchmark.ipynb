{
 "cells": [
  {
   "cell_type": "code",
   "execution_count": 1,
   "metadata": {},
   "outputs": [
    {
     "name": "stderr",
     "output_type": "stream",
     "text": [
      "/Users/maxime/Documents/github/comp_dnds/.venv/lib/python3.9/site-packages/Bio/codonalign/__init__.py:23: BiopythonExperimentalWarning: Bio.codonalign is an experimental module which may undergo significant changes prior to its future official release.\n",
      "  warnings.warn(\n",
      "/var/folders/1c/l1qb09f15jddsh65f6xv1n_r0000gp/T/ipykernel_48672/2819809054.py:10: TqdmWarning: IProgress not found. Please update jupyter and ipywidgets. See https://ipywidgets.readthedocs.io/en/stable/user_install.html\n"
     ]
    }
   ],
   "source": [
    "from Bio.codonalign.codonseq import CodonSeq\n",
    "from Bio.codonalign.codonseq import cal_dn_ds\n",
    "import random\n",
    "from comp_dnds import dnds\n",
    "from comp_dnds.paths import hamming_distance\n",
    "import time\n",
    "import pandas as pd\n",
    "from plotnine import *\n",
    "import numpy as np\n",
    "from tqdm.autonotebook import tqdm\n",
    "from interruptingcow import timeout"
   ]
  },
  {
   "cell_type": "code",
   "execution_count": 2,
   "metadata": {},
   "outputs": [
    {
     "data": {
      "text/plain": [
       "'1.81'"
      ]
     },
     "execution_count": 2,
     "metadata": {},
     "output_type": "execute_result"
    }
   ],
   "source": [
    "from Bio import __version__ as biopython_version\n",
    "biopython_version"
   ]
  },
  {
   "cell_type": "code",
   "execution_count": 3,
   "metadata": {},
   "outputs": [],
   "source": [
    "def biopython_dnds(ref_seq, obs_seq):\n",
    "    ref_codons = CodonSeq(ref_seq)\n",
    "    obs_codons = CodonSeq(obs_seq)\n",
    "    return cal_dn_ds(ref_codons, obs_codons, method='NG86')"
   ]
  },
  {
   "cell_type": "code",
   "execution_count": 4,
   "metadata": {},
   "outputs": [],
   "source": [
    "d = dnds()"
   ]
  },
  {
   "cell_type": "code",
   "execution_count": 5,
   "metadata": {},
   "outputs": [
    {
     "name": "stdout",
     "output_type": "stream",
     "text": [
      "Help on dnds in module comp_dnds.dnds object:\n",
      "\n",
      "class dnds(builtins.object)\n",
      " |  dnds(alphabet: List[str] = ['A', 'T', 'G', 'C'], codon_size: int = 3, genetic_code: int = 1) -> None\n",
      " |  \n",
      " |  Compute dn and ds for two sequences using the Nei-Gojobori(1986) method.\n",
      " |  \n",
      " |  Methods defined here:\n",
      " |  \n",
      " |  __init__(self, alphabet: List[str] = ['A', 'T', 'G', 'C'], codon_size: int = 3, genetic_code: int = 1) -> None\n",
      " |      Constructor for the dnds class.\n",
      " |      \n",
      " |      Args:\n",
      " |          alphabet (List[str], optional): Letters of DNA alphabet. Defaults to ['A','T','G','C'].\n",
      " |          codon_size (int, optional): Number of DNA base pairs in a codon. Defaults to 3.\n",
      " |          genetic_code (int, optional): Identifier of the genetic code.\n",
      " |              See https://www.ncbi.nlm.nih.gov/Taxonomy/Utils/wprintgc.cgi for reference.\n",
      " |              Defaults to 1.\n",
      " |  \n",
      " |  compute(self, ref_seq: str, obs_seq: str, bootstrap: int = 0, cpus: int = 8) -> Tuple[float, float]\n",
      " |      Compute dn and ds for two sequences using the Nei-Gojobori(1986) method.\n",
      " |      \n",
      " |      Args:\n",
      " |          ref_seq (str): Reference sequence. Typically the ancestral sequence.\n",
      " |          obs_seq (str): Observed sequence. Typically the derived sequence.\n",
      " |          bootstrap (int, optional): Number of bootstrap replicates. Defaults to 0.\n",
      " |          cpus (int, optional): Number of cpus to use for bootstrapping. Defaults to 8.\n",
      " |      \n",
      " |      Returns:\n",
      " |          Tuple[float, float, float, float]: Respectively dN and dS, and Z-score, and p-value.\n",
      " |          Z-score and p-value are computed only if bootstrap >= 100.\n",
      " |  \n",
      " |  ----------------------------------------------------------------------\n",
      " |  Data descriptors defined here:\n",
      " |  \n",
      " |  __dict__\n",
      " |      dictionary for instance variables (if defined)\n",
      " |  \n",
      " |  __weakref__\n",
      " |      list of weak references to the object (if defined)\n",
      "\n"
     ]
    }
   ],
   "source": [
    "help(d)"
   ]
  },
  {
   "cell_type": "code",
   "execution_count": 6,
   "metadata": {},
   "outputs": [],
   "source": [
    "d = dnds()\n",
    "def run_comp_dnds(ref_seq, obs_seq):\n",
    "    return d.compute(ref_seq, obs_seq)"
   ]
  },
  {
   "cell_type": "code",
   "execution_count": 7,
   "metadata": {},
   "outputs": [],
   "source": [
    "def seq_gen(length):\n",
    "    return ''.join(random.choice('ATGC') for _ in range(length))"
   ]
  },
  {
   "cell_type": "code",
   "execution_count": 8,
   "metadata": {},
   "outputs": [],
   "source": [
    "def mutate_sequence(seq, prob_mutation):\n",
    "    return ''.join(random.choice('ATGC') if random.random() < prob_mutation else seq[i] for i in range(len(seq)))"
   ]
  },
  {
   "cell_type": "code",
   "execution_count": 9,
   "metadata": {},
   "outputs": [],
   "source": [
    "reference = [seq_gen(999) for i in range(1000)]\n",
    "observed = [mutate_sequence(seq, 0.01) for seq in reference]"
   ]
  },
  {
   "cell_type": "markdown",
   "metadata": {},
   "source": [
    "Execution time benchmark"
   ]
  },
  {
   "cell_type": "code",
   "execution_count": 10,
   "metadata": {},
   "outputs": [],
   "source": [
    "biopython_durations = []\n",
    "comp_dnds_durations = []\n",
    "for r, o in zip(reference, observed):\n",
    "    # biopython cal_dn_ds\n",
    "    start = time.time()\n",
    "    biopython_dnds(r, o)\n",
    "    end = time.time()\n",
    "    duration = end - start\n",
    "    # comp_dnds\n",
    "    start = time.time()\n",
    "    run_comp_dnds(r, o)\n",
    "    end = time.time()\n",
    "    duration2 = end - start\n",
    "    biopython_durations.append(duration)\n",
    "    comp_dnds_durations.append(duration2)"
   ]
  },
  {
   "cell_type": "code",
   "execution_count": 11,
   "metadata": {},
   "outputs": [],
   "source": [
    "df = pd.DataFrame({'biopython': biopython_durations, 'comp_dnds': comp_dnds_durations})\n",
    "df_melt = df.melt(value_name='duration', var_name='method')\n"
   ]
  },
  {
   "cell_type": "code",
   "execution_count": 12,
   "metadata": {},
   "outputs": [],
   "source": [
    "df_stats = df_melt.groupby('method').describe().reset_index()"
   ]
  },
  {
   "cell_type": "code",
   "execution_count": 13,
   "metadata": {},
   "outputs": [],
   "source": [
    "df_stats.columns = df_stats.columns.droplevel(0)"
   ]
  },
  {
   "cell_type": "code",
   "execution_count": 14,
   "metadata": {},
   "outputs": [
    {
     "data": {
      "text/html": [
       "<div>\n",
       "<style scoped>\n",
       "    .dataframe tbody tr th:only-of-type {\n",
       "        vertical-align: middle;\n",
       "    }\n",
       "\n",
       "    .dataframe tbody tr th {\n",
       "        vertical-align: top;\n",
       "    }\n",
       "\n",
       "    .dataframe thead th {\n",
       "        text-align: right;\n",
       "    }\n",
       "</style>\n",
       "<table border=\"1\" class=\"dataframe\">\n",
       "  <thead>\n",
       "    <tr style=\"text-align: right;\">\n",
       "      <th></th>\n",
       "      <th></th>\n",
       "      <th>count</th>\n",
       "      <th>mean</th>\n",
       "      <th>std</th>\n",
       "      <th>min</th>\n",
       "      <th>25%</th>\n",
       "      <th>50%</th>\n",
       "      <th>75%</th>\n",
       "      <th>max</th>\n",
       "    </tr>\n",
       "  </thead>\n",
       "  <tbody>\n",
       "    <tr>\n",
       "      <th>0</th>\n",
       "      <td>biopython</td>\n",
       "      <td>1000.0</td>\n",
       "      <td>0.019489</td>\n",
       "      <td>0.002643</td>\n",
       "      <td>0.018637</td>\n",
       "      <td>0.019100</td>\n",
       "      <td>0.019284</td>\n",
       "      <td>0.019544</td>\n",
       "      <td>0.100843</td>\n",
       "    </tr>\n",
       "    <tr>\n",
       "      <th>1</th>\n",
       "      <td>comp_dnds</td>\n",
       "      <td>1000.0</td>\n",
       "      <td>0.000617</td>\n",
       "      <td>0.000046</td>\n",
       "      <td>0.000583</td>\n",
       "      <td>0.000597</td>\n",
       "      <td>0.000602</td>\n",
       "      <td>0.000611</td>\n",
       "      <td>0.001191</td>\n",
       "    </tr>\n",
       "  </tbody>\n",
       "</table>\n",
       "</div>"
      ],
      "text/plain": [
       "               count      mean       std       min       25%       50%  \\\n",
       "0  biopython  1000.0  0.019489  0.002643  0.018637  0.019100  0.019284   \n",
       "1  comp_dnds  1000.0  0.000617  0.000046  0.000583  0.000597  0.000602   \n",
       "\n",
       "        75%       max  \n",
       "0  0.019544  0.100843  \n",
       "1  0.000611  0.001191  "
      ]
     },
     "execution_count": 14,
     "metadata": {},
     "output_type": "execute_result"
    }
   ],
   "source": [
    "df_stats"
   ]
  },
  {
   "cell_type": "code",
   "execution_count": 15,
   "metadata": {},
   "outputs": [],
   "source": [
    "df_stats.columns = ['method'] + df_stats.columns[1:].to_list()"
   ]
  },
  {
   "cell_type": "code",
   "execution_count": 16,
   "metadata": {},
   "outputs": [
    {
     "data": {
      "text/html": [
       "<div>\n",
       "<style scoped>\n",
       "    .dataframe tbody tr th:only-of-type {\n",
       "        vertical-align: middle;\n",
       "    }\n",
       "\n",
       "    .dataframe tbody tr th {\n",
       "        vertical-align: top;\n",
       "    }\n",
       "\n",
       "    .dataframe thead th {\n",
       "        text-align: right;\n",
       "    }\n",
       "</style>\n",
       "<table border=\"1\" class=\"dataframe\">\n",
       "  <thead>\n",
       "    <tr style=\"text-align: right;\">\n",
       "      <th></th>\n",
       "      <th>method</th>\n",
       "      <th>count</th>\n",
       "      <th>mean</th>\n",
       "      <th>std</th>\n",
       "      <th>min</th>\n",
       "      <th>25%</th>\n",
       "      <th>50%</th>\n",
       "      <th>75%</th>\n",
       "      <th>max</th>\n",
       "    </tr>\n",
       "  </thead>\n",
       "  <tbody>\n",
       "    <tr>\n",
       "      <th>0</th>\n",
       "      <td>biopython</td>\n",
       "      <td>1000.0</td>\n",
       "      <td>0.019489</td>\n",
       "      <td>0.002643</td>\n",
       "      <td>0.018637</td>\n",
       "      <td>0.019100</td>\n",
       "      <td>0.019284</td>\n",
       "      <td>0.019544</td>\n",
       "      <td>0.100843</td>\n",
       "    </tr>\n",
       "    <tr>\n",
       "      <th>1</th>\n",
       "      <td>comp_dnds</td>\n",
       "      <td>1000.0</td>\n",
       "      <td>0.000617</td>\n",
       "      <td>0.000046</td>\n",
       "      <td>0.000583</td>\n",
       "      <td>0.000597</td>\n",
       "      <td>0.000602</td>\n",
       "      <td>0.000611</td>\n",
       "      <td>0.001191</td>\n",
       "    </tr>\n",
       "  </tbody>\n",
       "</table>\n",
       "</div>"
      ],
      "text/plain": [
       "      method   count      mean       std       min       25%       50%  \\\n",
       "0  biopython  1000.0  0.019489  0.002643  0.018637  0.019100  0.019284   \n",
       "1  comp_dnds  1000.0  0.000617  0.000046  0.000583  0.000597  0.000602   \n",
       "\n",
       "        75%       max  \n",
       "0  0.019544  0.100843  \n",
       "1  0.000611  0.001191  "
      ]
     },
     "execution_count": 16,
     "metadata": {},
     "output_type": "execute_result"
    }
   ],
   "source": [
    "df_stats"
   ]
  },
  {
   "cell_type": "code",
   "execution_count": 17,
   "metadata": {},
   "outputs": [
    {
     "name": "stderr",
     "output_type": "stream",
     "text": [
      "/Users/maxime/Documents/github/comp_dnds/.venv/lib/python3.9/site-packages/plotnine/ggplot.py:587: PlotnineWarning: Saving 6.4 x 4.8 in image.\n",
      "/Users/maxime/Documents/github/comp_dnds/.venv/lib/python3.9/site-packages/plotnine/ggplot.py:588: PlotnineWarning: Filename: ../plots/biopython_benchmark.png\n"
     ]
    }
   ],
   "source": [
    "g = (\n",
    "    ggplot(df_stats, aes(x='method', y='mean', fill='method')) \n",
    "    + geom_bar(stat='identity') \n",
    "    + geom_errorbar(aes(ymin=\"mean-std\",ymax=\"mean+std\"))\n",
    "    + theme_classic()\n",
    "    + labs(y='mean duration (s)', x='method')\n",
    ")\n",
    "g.save(\"../plots/biopython_benchmark.png\", dpi=72)"
   ]
  },
  {
   "cell_type": "markdown",
   "metadata": {},
   "source": [
    "Calculating speedup"
   ]
  },
  {
   "cell_type": "code",
   "execution_count": 18,
   "metadata": {},
   "outputs": [
    {
     "data": {
      "text/plain": [
       "count    1000.000000\n",
       "mean       31.713436\n",
       "std         4.608113\n",
       "min        16.112913\n",
       "25%        31.395310\n",
       "50%        31.970225\n",
       "75%        32.437253\n",
       "max       164.004265\n",
       "dtype: float64"
      ]
     },
     "execution_count": 18,
     "metadata": {},
     "output_type": "execute_result"
    }
   ],
   "source": [
    "(df.biopython / df.comp_dnds).describe()"
   ]
  },
  {
   "cell_type": "markdown",
   "metadata": {},
   "source": [
    "Checking results consistency with biopython calc_dnds"
   ]
  },
  {
   "cell_type": "code",
   "execution_count": 19,
   "metadata": {},
   "outputs": [],
   "source": [
    "agree = []\n",
    "for r, o in zip(reference, observed):\n",
    "    # biopython cal_dn_ds\n",
    "    start = time.time()\n",
    "    biodn, biods = biopython_dnds(r, o)\n",
    "    # comp_dnds\n",
    "    comp_dn, comp_ds, z, p = run_comp_dnds(r, o)\n",
    "    agree.append(abs(biodn - comp_dn) < 1e-3 and abs(biods - comp_ds) < 1e-3)\n",
    "    "
   ]
  },
  {
   "cell_type": "code",
   "execution_count": 20,
   "metadata": {},
   "outputs": [
    {
     "data": {
      "text/plain": [
       "0.994"
      ]
     },
     "execution_count": 20,
     "metadata": {},
     "output_type": "execute_result"
    }
   ],
   "source": [
    "agree.count(True) / len(agree)"
   ]
  },
  {
   "cell_type": "markdown",
   "metadata": {},
   "source": [
    "The calculated dN and dS values are identical to those calculated by BioPython (difference of less than 10e3 for 99.4% of the results)."
   ]
  },
  {
   "cell_type": "markdown",
   "metadata": {},
   "source": [
    "## comp_dnds bootstrap "
   ]
  },
  {
   "cell_type": "markdown",
   "metadata": {},
   "source": [
    "Testing the bootstrap"
   ]
  },
  {
   "cell_type": "code",
   "execution_count": 21,
   "metadata": {},
   "outputs": [],
   "source": [
    "genetic_code_no_stop = {c:d.codon_table[c] for c in d.codon_table if d.codon_table[c] != 'stop'}"
   ]
  },
  {
   "cell_type": "markdown",
   "metadata": {},
   "source": [
    "Let's mutate the reference sequence in a cleverer way:\n",
    "- For each codon, we do a 1 basepair non-synonymous with a probability of `prob_ns`\n",
    "- If not mutated, we do a 1 basepair non-synonymous with a probability of `prob_s`\n",
    "- Otherwise, the codon remains identical"
   ]
  },
  {
   "cell_type": "code",
   "execution_count": 70,
   "metadata": {},
   "outputs": [
    {
     "name": "stderr",
     "output_type": "stream",
     "text": [
      "100%|██████████| 15/15 [00:00<00:00, 20106.92it/s]"
     ]
    },
    {
     "name": "stdout",
     "output_type": "stream",
     "text": [
      "non-synonymous mutations in codons (13)\n",
      "synonymous mutations in codons (1)\n"
     ]
    },
    {
     "name": "stderr",
     "output_type": "stream",
     "text": [
      "\n"
     ]
    }
   ],
   "source": [
    "ref_codons = random.choices(list(genetic_code_no_stop.keys()), k=15)\n",
    "def mutate(ref_codons, prob_ns, prob_s):\n",
    "    s = 0\n",
    "    ns = 0\n",
    "    codons = []\n",
    "    for c in tqdm(ref_codons):\n",
    "        mutated = False\n",
    "        if random.random() < prob_ns:\n",
    "            same = True\n",
    "            while same == True:\n",
    "                new_c = random.choice(list(genetic_code_no_stop.keys()))\n",
    "                d = hamming_distance(c, new_c)\n",
    "                if genetic_code_no_stop[new_c] != genetic_code_no_stop[c] and d == 1:\n",
    "                    codons.append(new_c)\n",
    "                    same = False\n",
    "                    mutated = True\n",
    "                    ns += d\n",
    "                    continue\n",
    "        elif random.random() < prob_s:\n",
    "            same = False\n",
    "            while same == False:\n",
    "                new_c = random.choice(list(genetic_code_no_stop.keys()))\n",
    "                d = hamming_distance(c, new_c)\n",
    "                if genetic_code_no_stop[new_c] == genetic_code_no_stop[c] and d == 1:\n",
    "                    codons.append(new_c)\n",
    "                    same = True\n",
    "                    mutated = True\n",
    "                    s += d\n",
    "                    continue\n",
    "        if mutated == False:\n",
    "            codons.append(c)\n",
    "    print(f\"non-synonymous mutations in codons ({ns})\")\n",
    "    print(f\"synonymous mutations in codons ({s})\")\n",
    "    return codons\n",
    "try:\n",
    "    with timeout(0.5, exception=RuntimeError):\n",
    "        mutated_codons = mutate(ref_codons, prob_ns=0.7, prob_s=0.1)\n",
    "        dn, ds, z , p = d.compute(\"\".join(ref_codons), \"\".join(mutated_codons))\n",
    "except RuntimeError:\n",
    "    pass\n",
    "# ref_codons = [\"CCC\"]*100\n",
    "# mutated_codons = [\"CCC\"]*49 + [\"CCA\"] + [\"CGC\"]*50\n"
   ]
  },
  {
   "cell_type": "code",
   "execution_count": 71,
   "metadata": {},
   "outputs": [
    {
     "name": "stdout",
     "output_type": "stream",
     "text": [
      "6.9053189758991165\n"
     ]
    }
   ],
   "source": [
    "print(dn/ds)"
   ]
  },
  {
   "cell_type": "code",
   "execution_count": 79,
   "metadata": {},
   "outputs": [
    {
     "name": "stderr",
     "output_type": "stream",
     "text": [
      "  0%|          | 0/1000 [00:00<?, ?it/s]"
     ]
    },
    {
     "name": "stderr",
     "output_type": "stream",
     "text": [
      "100%|██████████| 1000/1000 [00:00<00:00, 12543.26it/s]\n"
     ]
    }
   ],
   "source": [
    "dn, ds, z, p = d.compute(\"\".join(ref_codons), \"\".join(mutated_codons), bootstrap=1000)"
   ]
  },
  {
   "cell_type": "code",
   "execution_count": 80,
   "metadata": {},
   "outputs": [
    {
     "name": "stdout",
     "output_type": "stream",
     "text": [
      "ω= 6.91 - z-score= 3.72 - p-val= 0.0002\n"
     ]
    }
   ],
   "source": [
    "print(f\"ω= {round(dn/ds,2)} - z-score= {round(z,2)} - p-val= {round(p, 5)}\")"
   ]
  },
  {
   "cell_type": "code",
   "execution_count": 81,
   "metadata": {},
   "outputs": [
    {
     "name": "stdout",
     "output_type": "stream",
     "text": [
      "GCC GGG GGA AGG ACA TAT CTC GCT CCA CCT AAT GGA ATC ATC GGT\n",
      "GAC GGC CGA GGG GCA AAT CGC ACT ACA ACT ACT GAA GTC ATC AGT\n"
     ]
    }
   ],
   "source": [
    "print(\" \".join(ref_codons))\n",
    "print(\" \".join(mutated_codons))"
   ]
  }
 ],
 "metadata": {
  "kernelspec": {
   "display_name": "bioconda",
   "language": "python",
   "name": "python3"
  },
  "language_info": {
   "codemirror_mode": {
    "name": "ipython",
    "version": 3
   },
   "file_extension": ".py",
   "mimetype": "text/x-python",
   "name": "python",
   "nbconvert_exporter": "python",
   "pygments_lexer": "ipython3",
   "version": "3.9.16"
  }
 },
 "nbformat": 4,
 "nbformat_minor": 2
}
