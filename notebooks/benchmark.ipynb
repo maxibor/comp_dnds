{
 "cells": [
  {
   "cell_type": "code",
   "execution_count": 107,
   "metadata": {},
   "outputs": [],
   "source": [
    "from Bio.codonalign.codonseq import CodonSeq\n",
    "from Bio.codonalign.codonseq import cal_dn_ds\n",
    "import random\n",
    "from comp_dnds import dnds\n",
    "import time\n",
    "import pandas as pd\n",
    "from plotnine import *\n",
    "import numpy as np"
   ]
  },
  {
   "cell_type": "code",
   "execution_count": 110,
   "metadata": {},
   "outputs": [
    {
     "data": {
      "text/plain": [
       "'1.81'"
      ]
     },
     "execution_count": 110,
     "metadata": {},
     "output_type": "execute_result"
    }
   ],
   "source": [
    "from Bio import __version__ as biopython_version\n",
    "biopython_version"
   ]
  },
  {
   "cell_type": "code",
   "execution_count": 108,
   "metadata": {},
   "outputs": [],
   "source": [
    "def biopython_dnds(ref_seq, obs_seq):\n",
    "    ref_codons = CodonSeq(ref_seq)\n",
    "    obs_codons = CodonSeq(obs_seq)\n",
    "    return cal_dn_ds(ref_codons, obs_codons, method='NG86')"
   ]
  },
  {
   "cell_type": "code",
   "execution_count": 29,
   "metadata": {},
   "outputs": [],
   "source": [
    "d = dnds()\n",
    "def run_comp_dnds(ref_seq, obs_seq):\n",
    "    return d.compute(ref_seq, obs_seq)"
   ]
  },
  {
   "cell_type": "code",
   "execution_count": 6,
   "metadata": {},
   "outputs": [],
   "source": [
    "def seq_gen(length):\n",
    "    return ''.join(random.choice('ATGC') for _ in range(length))"
   ]
  },
  {
   "cell_type": "code",
   "execution_count": 11,
   "metadata": {},
   "outputs": [],
   "source": [
    "def mutate_sequence(seq, prob_mutation):\n",
    "    return ''.join(random.choice('ATGC') if random.random() < prob_mutation else seq[i] for i in range(len(seq)))"
   ]
  },
  {
   "cell_type": "code",
   "execution_count": 28,
   "metadata": {},
   "outputs": [],
   "source": [
    "reference = [seq_gen(999) for i in range(1000)]\n",
    "observed = [mutate_sequence(seq, 0.01) for seq in reference]"
   ]
  },
  {
   "cell_type": "markdown",
   "metadata": {},
   "source": [
    "Execution time benchmark"
   ]
  },
  {
   "cell_type": "code",
   "execution_count": 31,
   "metadata": {},
   "outputs": [],
   "source": [
    "biopython_durations = []\n",
    "comp_dnds_durations = []\n",
    "for r, o in zip(reference, observed):\n",
    "    # biopython cal_dn_ds\n",
    "    start = time.time()\n",
    "    biopython_dnds(r, o)\n",
    "    end = time.time()\n",
    "    duration = end - start\n",
    "    # comp_dnds\n",
    "    start = time.time()\n",
    "    run_comp_dnds(r, o)\n",
    "    end = time.time()\n",
    "    duration2 = end - start\n",
    "    biopython_durations.append(duration)\n",
    "    comp_dnds_durations.append(duration2)"
   ]
  },
  {
   "cell_type": "code",
   "execution_count": 42,
   "metadata": {},
   "outputs": [],
   "source": [
    "df = pd.DataFrame({'biopython': biopython_durations, 'comp_dnds': comp_dnds_durations})\n",
    "df_melt = df.melt(value_name='duration', var_name='method')\n"
   ]
  },
  {
   "cell_type": "code",
   "execution_count": 86,
   "metadata": {},
   "outputs": [],
   "source": [
    "df_stats = df_melt.groupby('method').describe().reset_index()"
   ]
  },
  {
   "cell_type": "code",
   "execution_count": 87,
   "metadata": {},
   "outputs": [],
   "source": [
    "df_stats.columns = df_stats.columns.droplevel(0)"
   ]
  },
  {
   "cell_type": "code",
   "execution_count": 88,
   "metadata": {},
   "outputs": [
    {
     "data": {
      "text/html": [
       "<div>\n",
       "<style scoped>\n",
       "    .dataframe tbody tr th:only-of-type {\n",
       "        vertical-align: middle;\n",
       "    }\n",
       "\n",
       "    .dataframe tbody tr th {\n",
       "        vertical-align: top;\n",
       "    }\n",
       "\n",
       "    .dataframe thead th {\n",
       "        text-align: right;\n",
       "    }\n",
       "</style>\n",
       "<table border=\"1\" class=\"dataframe\">\n",
       "  <thead>\n",
       "    <tr style=\"text-align: right;\">\n",
       "      <th></th>\n",
       "      <th></th>\n",
       "      <th>count</th>\n",
       "      <th>mean</th>\n",
       "      <th>std</th>\n",
       "      <th>min</th>\n",
       "      <th>25%</th>\n",
       "      <th>50%</th>\n",
       "      <th>75%</th>\n",
       "      <th>max</th>\n",
       "    </tr>\n",
       "  </thead>\n",
       "  <tbody>\n",
       "    <tr>\n",
       "      <th>0</th>\n",
       "      <td>biopython</td>\n",
       "      <td>1000.0</td>\n",
       "      <td>0.020846</td>\n",
       "      <td>0.004049</td>\n",
       "      <td>0.019148</td>\n",
       "      <td>0.019862</td>\n",
       "      <td>0.020147</td>\n",
       "      <td>0.020553</td>\n",
       "      <td>0.115118</td>\n",
       "    </tr>\n",
       "    <tr>\n",
       "      <th>1</th>\n",
       "      <td>comp_dnds</td>\n",
       "      <td>1000.0</td>\n",
       "      <td>0.000652</td>\n",
       "      <td>0.000119</td>\n",
       "      <td>0.000589</td>\n",
       "      <td>0.000605</td>\n",
       "      <td>0.000613</td>\n",
       "      <td>0.000662</td>\n",
       "      <td>0.002213</td>\n",
       "    </tr>\n",
       "  </tbody>\n",
       "</table>\n",
       "</div>"
      ],
      "text/plain": [
       "               count      mean       std       min       25%       50%  \\\n",
       "0  biopython  1000.0  0.020846  0.004049  0.019148  0.019862  0.020147   \n",
       "1  comp_dnds  1000.0  0.000652  0.000119  0.000589  0.000605  0.000613   \n",
       "\n",
       "        75%       max  \n",
       "0  0.020553  0.115118  \n",
       "1  0.000662  0.002213  "
      ]
     },
     "execution_count": 88,
     "metadata": {},
     "output_type": "execute_result"
    }
   ],
   "source": [
    "df_stats"
   ]
  },
  {
   "cell_type": "code",
   "execution_count": 89,
   "metadata": {},
   "outputs": [],
   "source": [
    "df_stats.columns = ['method'] + df_stats.columns[1:].to_list()"
   ]
  },
  {
   "cell_type": "code",
   "execution_count": 90,
   "metadata": {},
   "outputs": [
    {
     "data": {
      "text/html": [
       "<div>\n",
       "<style scoped>\n",
       "    .dataframe tbody tr th:only-of-type {\n",
       "        vertical-align: middle;\n",
       "    }\n",
       "\n",
       "    .dataframe tbody tr th {\n",
       "        vertical-align: top;\n",
       "    }\n",
       "\n",
       "    .dataframe thead th {\n",
       "        text-align: right;\n",
       "    }\n",
       "</style>\n",
       "<table border=\"1\" class=\"dataframe\">\n",
       "  <thead>\n",
       "    <tr style=\"text-align: right;\">\n",
       "      <th></th>\n",
       "      <th>method</th>\n",
       "      <th>count</th>\n",
       "      <th>mean</th>\n",
       "      <th>std</th>\n",
       "      <th>min</th>\n",
       "      <th>25%</th>\n",
       "      <th>50%</th>\n",
       "      <th>75%</th>\n",
       "      <th>max</th>\n",
       "    </tr>\n",
       "  </thead>\n",
       "  <tbody>\n",
       "    <tr>\n",
       "      <th>0</th>\n",
       "      <td>biopython</td>\n",
       "      <td>1000.0</td>\n",
       "      <td>0.020846</td>\n",
       "      <td>0.004049</td>\n",
       "      <td>0.019148</td>\n",
       "      <td>0.019862</td>\n",
       "      <td>0.020147</td>\n",
       "      <td>0.020553</td>\n",
       "      <td>0.115118</td>\n",
       "    </tr>\n",
       "    <tr>\n",
       "      <th>1</th>\n",
       "      <td>comp_dnds</td>\n",
       "      <td>1000.0</td>\n",
       "      <td>0.000652</td>\n",
       "      <td>0.000119</td>\n",
       "      <td>0.000589</td>\n",
       "      <td>0.000605</td>\n",
       "      <td>0.000613</td>\n",
       "      <td>0.000662</td>\n",
       "      <td>0.002213</td>\n",
       "    </tr>\n",
       "  </tbody>\n",
       "</table>\n",
       "</div>"
      ],
      "text/plain": [
       "      method   count      mean       std       min       25%       50%  \\\n",
       "0  biopython  1000.0  0.020846  0.004049  0.019148  0.019862  0.020147   \n",
       "1  comp_dnds  1000.0  0.000652  0.000119  0.000589  0.000605  0.000613   \n",
       "\n",
       "        75%       max  \n",
       "0  0.020553  0.115118  \n",
       "1  0.000662  0.002213  "
      ]
     },
     "execution_count": 90,
     "metadata": {},
     "output_type": "execute_result"
    }
   ],
   "source": [
    "df_stats"
   ]
  },
  {
   "cell_type": "code",
   "execution_count": 112,
   "metadata": {},
   "outputs": [
    {
     "name": "stderr",
     "output_type": "stream",
     "text": [
      "/Users/maxime/Documents/github/comp_dnds/.venv/lib/python3.9/site-packages/plotnine/ggplot.py:587: PlotnineWarning: Saving 6.4 x 4.8 in image.\n",
      "/Users/maxime/Documents/github/comp_dnds/.venv/lib/python3.9/site-packages/plotnine/ggplot.py:588: PlotnineWarning: Filename: ../plots/biopython_benchmark.png\n"
     ]
    }
   ],
   "source": [
    "g = (\n",
    "    ggplot(df_stats, aes(x='method', y='mean', fill='method')) \n",
    "    + geom_bar(stat='identity') \n",
    "    + geom_errorbar(aes(ymin=\"mean-std\",ymax=\"mean+std\"))\n",
    "    + theme_classic()\n",
    "    + labs(y='mean duration (s)', x='method')\n",
    ")\n",
    "g.save(\"../plots/biopython_benchmark.png\", dpi=72)"
   ]
  },
  {
   "cell_type": "markdown",
   "metadata": {},
   "source": [
    "Calculating speedup"
   ]
  },
  {
   "cell_type": "code",
   "execution_count": 97,
   "metadata": {},
   "outputs": [
    {
     "data": {
      "text/plain": [
       "count    1000.000000\n",
       "mean       32.269249\n",
       "std         4.285556\n",
       "min         9.605567\n",
       "25%        30.835351\n",
       "50%        32.746612\n",
       "75%        33.419786\n",
       "max        75.994136\n",
       "dtype: float64"
      ]
     },
     "execution_count": 97,
     "metadata": {},
     "output_type": "execute_result"
    }
   ],
   "source": [
    "(df.biopython / df.comp_dnds).describe()"
   ]
  },
  {
   "cell_type": "markdown",
   "metadata": {},
   "source": [
    "Checking results consistency with biopython calc_dnds"
   ]
  },
  {
   "cell_type": "code",
   "execution_count": 121,
   "metadata": {},
   "outputs": [],
   "source": [
    "agree = []\n",
    "for r, o in zip(reference, observed):\n",
    "    # biopython cal_dn_ds\n",
    "    start = time.time()\n",
    "    biodn, biods = biopython_dnds(r, o)\n",
    "    # comp_dnds\n",
    "    comp_dn, comp_ds = run_comp_dnds(r, o)\n",
    "    agree.append(abs(biodn - comp_dn) < 1e-3 and abs(biods - comp_ds) < 1e-3)\n",
    "    "
   ]
  },
  {
   "cell_type": "code",
   "execution_count": 123,
   "metadata": {},
   "outputs": [
    {
     "data": {
      "text/plain": [
       "0.998"
      ]
     },
     "execution_count": 123,
     "metadata": {},
     "output_type": "execute_result"
    }
   ],
   "source": [
    "agree.count(True) / len(agree)"
   ]
  },
  {
   "cell_type": "markdown",
   "metadata": {},
   "source": [
    "The calculated dN and dS values are identical to those calculated by BioPython (difference of less than 10e3 for 99.8% of the results)."
   ]
  }
 ],
 "metadata": {
  "kernelspec": {
   "display_name": "bioconda",
   "language": "python",
   "name": "python3"
  },
  "language_info": {
   "codemirror_mode": {
    "name": "ipython",
    "version": 3
   },
   "file_extension": ".py",
   "mimetype": "text/x-python",
   "name": "python",
   "nbconvert_exporter": "python",
   "pygments_lexer": "ipython3",
   "version": "3.9.16"
  }
 },
 "nbformat": 4,
 "nbformat_minor": 2
}
